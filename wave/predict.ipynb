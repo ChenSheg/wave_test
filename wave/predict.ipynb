{
 "cells": [
  {
   "cell_type": "code",
   "execution_count": 1,
   "metadata": {},
   "outputs": [
    {
     "ename": "ModuleNotFoundError",
     "evalue": "No module named 'torch'",
     "output_type": "error",
     "traceback": [
      "\u001b[1;31m---------------------------------------------------------------------------\u001b[0m",
      "\u001b[1;31mModuleNotFoundError\u001b[0m                       Traceback (most recent call last)",
      "Cell \u001b[1;32mIn[1], line 1\u001b[0m\n\u001b[1;32m----> 1\u001b[0m \u001b[38;5;28;01mimport\u001b[39;00m \u001b[38;5;21;01mtorch\u001b[39;00m\n\u001b[0;32m      2\u001b[0m \u001b[38;5;28;01mimport\u001b[39;00m \u001b[38;5;21;01mpandas\u001b[39;00m \u001b[38;5;28;01mas\u001b[39;00m \u001b[38;5;21;01mpd\u001b[39;00m\n\u001b[0;32m      3\u001b[0m \u001b[38;5;28;01mimport\u001b[39;00m \u001b[38;5;21;01mnumpy\u001b[39;00m \u001b[38;5;28;01mas\u001b[39;00m \u001b[38;5;21;01mnp\u001b[39;00m\n",
      "\u001b[1;31mModuleNotFoundError\u001b[0m: No module named 'torch'"
     ]
    }
   ],
   "source": [
    "import torch\n",
    "import pandas as pd\n",
    "import numpy as np\n",
    "from wave.model import WAVE\n",
    "from wave.utils import morgan_fp\n",
    "import warnings\n",
    "warnings.filterwarnings(\"ignore\", category=DeprecationWarning)\n",
    "\n",
    "def load_wave_model(wave_model_path, genevae_model_path, device, **kwargs):\n",
    "    model = WAVE().to(device)\n",
    "    model.load_state_dict(torch.load(wave_model_path, map_location=device))\n",
    "    model.eval()\n",
    "    return model\n",
    "\n",
    "def predict_expression(unpert_expr, smiles_list, model, device=\"cpu\"):\n",
    "    model = model.to(device)\n",
    "    model.eval()\n",
    "\n",
    "    with torch.no_grad():\n",
    "        unpert_expr_tensor = torch.tensor(unpert_expr, dtype=torch.float32).to(device)\n",
    "        drug_fps = [torch.tensor(morgan_fp(s), dtype=torch.float32) for s in smiles_list]\n",
    "        drug_fps_tensor = torch.stack(drug_fps).to(device)\n",
    "\n",
    "        batch = {\"unpert_expr\": unpert_expr_tensor, \"drug_fp\": drug_fps_tensor}\n",
    "        predicted_expression = model(batch).cpu().numpy()\n",
    "\n",
    "    return pd.DataFrame(predicted_expression, columns=[f\"Gene_{i+1}\" for i in range(predicted_expression.shape[1])])\n",
    "\n",
    "# 加载模型\n",
    "\n",
    "model = load_wave_model(wave_model_path = \"D:/git_down/wave/best_model.pth\", genevae_model_path='\"D:/git_down/vae_model.pth\"', device='cuda')\n",
    "\n",
    "# 准备数据\n",
    "smiles_list = [\n",
    "    'CC(=O)OC1=CC=CC=C1C(=O)O',\n",
    "    'CC(C)CC(C)C(=O)O'\n",
    "]\n",
    "unpert_expr = np.random.rand(2, 978)  # 示例数据，替换为你的实际数据\n",
    "\n",
    "# 进行预测\n",
    "predicted_expression = predict_expression(unpert_expr, smiles_list, model, device='cpu')\n",
    "output_dir='D:/git_down/wave/predicted_expression.csv'\n",
    "predicted_expression.to_csv(output_dir)\n",
    "\n"
   ]
  }
 ],
 "metadata": {
  "kernelspec": {
   "display_name": "test",
   "language": "python",
   "name": "python3"
  },
  "language_info": {
   "codemirror_mode": {
    "name": "ipython",
    "version": 3
   },
   "file_extension": ".py",
   "mimetype": "text/x-python",
   "name": "python",
   "nbconvert_exporter": "python",
   "pygments_lexer": "ipython3",
   "version": "3.9.21"
  }
 },
 "nbformat": 4,
 "nbformat_minor": 2
}
